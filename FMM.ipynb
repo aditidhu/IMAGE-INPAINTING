{
  "nbformat": 4,
  "nbformat_minor": 0,
  "metadata": {
    "colab": {
      "provenance": [],
      "gpuType": "T4"
    },
    "kernelspec": {
      "name": "python3",
      "display_name": "Python 3"
    },
    "language_info": {
      "name": "python"
    },
    "accelerator": "GPU"
  },
  "cells": [
    {
      "cell_type": "code",
      "source": [],
      "metadata": {
        "id": "JUW4jX3ksCyO"
      },
      "execution_count": null,
      "outputs": []
    },
    {
      "cell_type": "code",
      "source": [
        "import numpy as np\n",
        "import cv2\n",
        "import matplotlib.pyplot as plt\n",
        "from scipy.signal import convolve2d\n",
        "EPS = 1e-6\n",
        "\n",
        "def solve(i1, j1, i2, j2, T):\n",
        "\n",
        "    if T[i1, j1] == 1000000 and T[i2, j2] == 1000000:\n",
        "\n",
        "        return 100000\n",
        "\n",
        "\n",
        "    delta_T = abs(T[i1, j1] - T[i2, j2])\n",
        "\n",
        "\n",
        "    s = min(T[i1, j1], T[i2, j2]) + 1.0\n",
        "\n",
        "\n",
        "    return min(s, T[i1, j1] + delta_T, T[i2, j2] + delta_T)\n",
        "def gradient(array):\n",
        "    gradient_x = np.gradient(array, axis=0)\n",
        "    gradient_y = np.gradient(array, axis=1)\n",
        "    return gradient_x, gradient_y\n",
        "\n",
        "\n",
        "\n",
        "def inpaint(i, j, T, image, B=1):\n",
        "    s = 0\n",
        "    Ia = np.zeros(3)\n",
        "    grad_T = np.gradient(T)\n",
        "\n",
        "    for x in range(i - B, i + B + 1):\n",
        "        for y in range(j - B, j + B + 1):\n",
        "            for z in range(3):\n",
        "                if x - 1 >= 0 and y - 1 >= 0 and T[x - 1, y - 1] == 0:\n",
        "                    r = np.array([x- i, y - j])\n",
        "                    dot_gradt_r = (grad_T[0][i, j] * r[0]) + (grad_T[1][i, j] * r[1])\n",
        "                    dir = (dot_gradt_r) / np.linalg.norm(r,1)\n",
        "                    if dir==0:\n",
        "                      dir = EPS\n",
        "                    dst = 1 / (np.linalg.norm(r,1) ** 2)\n",
        "\n",
        "                    lev = 1 / (1 + np.abs(T[x-1,y-1] - T[i, j]))\n",
        "\n",
        "                    w = abs(dir * dst * lev)\n",
        "\n",
        "\n",
        "                    if (\n",
        "                        x + 1 < image.shape[0]\n",
        "                        and y + 1 < image.shape[1]\n",
        "                        and x - 1 >= 0\n",
        "                        and y - 1 >= 0\n",
        "                        and T[x + 1, y] == 0\n",
        "                        and T[x - 1, y] == 0\n",
        "                        and T[x, y + 1] == 0\n",
        "                        and T[x, y - 1] == 0\n",
        "                    ):\n",
        "                        gradI = np.array(\n",
        "                            [\n",
        "                                image[x + 1, y, z] - image[x - 1, y, z],\n",
        "                                image[x, y + 1, z] - image[x, y - 1, z],\n",
        "                            ]\n",
        "                        )\n",
        "                        dot_gradi_r = (gradI[0] * r[0]) + (gradI[1] * r[1])\n",
        "                        Ia[z] += w * (image[x, y, z] + dot_gradi_r)\n",
        "                        s += w\n",
        "\n",
        "    for z in range(3):\n",
        "        if s != 0:\n",
        "            image[i, j, z] = Ia[z] / s\n",
        "        else:\n",
        "            image[i, j, z] = 0\n",
        "\n",
        "\n",
        "\n",
        "narrow_band=[]\n",
        "image_width = 64\n",
        "image_height = 64\n",
        "image = np.ones((image_height, image_width, 3), dtype=np.uint8) * 255\n",
        "start_point = (image_width // 2, 0)\n",
        "end_point = (image_width // 2, image_height)\n",
        "image = cv2.line(image, start_point, end_point, (255,0,0), 5)\n",
        "start_point = (0, image_height // 2)\n",
        "end_point = (image_width, image_height // 2)\n",
        "image = cv2.line(image, start_point, end_point, (0,0,0),5)\n",
        "plt.imshow(image)\n",
        "plt.axis('off')\n",
        "plt.show()\n",
        "gray_image = cv2.cvtColor(image, cv2.COLOR_BGR2GRAY)\n",
        "T=np.zeros_like(gray_image)\n",
        "for i in range(0,image.shape[0]):\n",
        "  for j in range(0,image.shape[1]):\n",
        "    if any(image[i,j]!=(0,0,0)):\n",
        "      T[i,j]=0\n",
        "      narrow_band.append([i,j])\n",
        "    else:\n",
        "      T[i,j]=10000\n",
        "      narrow_band.append([i,j])\n",
        "plt.imshow(T,cmap='gray')\n",
        "plt.axis('off')\n",
        "plt.show()\n",
        "\n",
        "\n",
        "while narrow_band:\n",
        "    min_distance = 1000000\n",
        "    min_point = None\n",
        "    for point in narrow_band:\n",
        "\n",
        "        if T[point[0],point[1]]<min_distance:\n",
        "            min_distance = T[point[0],point[1]]\n",
        "            min_point = point\n",
        "\n",
        "    current_point = min_point\n",
        "\n",
        "    if current_point is None:\n",
        "        break\n",
        "\n",
        "    narrow_band.remove(current_point)\n",
        "\n",
        "    neighbors = [\n",
        "        (current_point[0] - 1, current_point[1]),\n",
        "        (current_point[0] + 1, current_point[1]),\n",
        "        (current_point[0], current_point[1] - 1),\n",
        "        (current_point[0], current_point[1] + 1),\n",
        "    ]\n",
        "\n",
        "    for neighbor in neighbors:\n",
        "\n",
        "        if 0 <= neighbor[0] < image.shape[0] and 0 <= neighbor[1] < image.shape[1]:\n",
        "            new_distance = solve(current_point[0], current_point[1], neighbor[0], neighbor[1],T)\n",
        "\n",
        "            if new_distance < T[neighbor]:\n",
        "                T[neighbor] = new_distance\n",
        "\n",
        "\n",
        "                if neighbor not in narrow_band:\n",
        "                    narrow_band.append(neighbor)\n",
        "\n",
        "\n",
        "                    inpaint(neighbor[0],neighbor[1],T,image)\n",
        "\n",
        "\n",
        "plt.imshow(image,cmap='gray')\n",
        "plt.axis('off')\n",
        "plt.show()\n",
        "\n",
        "\n",
        "\n"
      ],
      "metadata": {
        "colab": {
          "base_uri": "https://localhost:8080/",
          "height": 1000
        },
        "id": "mccWlZu0Fwft",
        "outputId": "e3ea41ac-7555-4ee0-9390-4bfaa7b38910"
      },
      "execution_count": 29,
      "outputs": [
        {
          "output_type": "display_data",
          "data": {
            "text/plain": [
              "<Figure size 640x480 with 1 Axes>"
            ],
            "image/png": "[encoded data removed]"
          },
          "metadata": {}
        },
        {
          "output_type": "display_data",
          "data": {
            "text/plain": [
              "<Figure size 640x480 with 1 Axes>"
            ],
            "image/png": "[encoded data removed]"
          },
          "metadata": {}
        },
        {
          "output_type": "stream",
          "name": "stderr",
          "text": [
            "<ipython-input-29-29d3ae5da2c2>:14: RuntimeWarning: overflow encountered in ubyte_scalars\n",
            "  delta_T = abs(T[i1, j1] - T[i2, j2])\n",
            "<ipython-input-29-29d3ae5da2c2>:20: RuntimeWarning: overflow encountered in ubyte_scalars\n",
            "  return min(s, T[i1, j1] + delta_T, T[i2, j2] + delta_T)\n",
            "<ipython-input-29-29d3ae5da2c2>:61: RuntimeWarning: overflow encountered in ubyte_scalars\n",
            "  image[x + 1, y, z] - image[x - 1, y, z],\n",
            "<ipython-input-29-29d3ae5da2c2>:39: RuntimeWarning: invalid value encountered in double_scalars\n",
            "  dir = (dot_gradt_r) / np.linalg.norm(r,1)\n",
            "<ipython-input-29-29d3ae5da2c2>:42: RuntimeWarning: divide by zero encountered in double_scalars\n",
            "  dst = 1 / (np.linalg.norm(r,1) ** 2)\n",
            "<ipython-input-29-29d3ae5da2c2>:62: RuntimeWarning: overflow encountered in ubyte_scalars\n",
            "  image[x, y + 1, z] - image[x, y - 1, z],\n"
          ]
        },
        {
          "output_type": "display_data",
          "data": {
            "text/plain": [
              "<Figure size 640x480 with 1 Axes>"
            ],
            "image/png": "[encoded data removed]"
          },
          "metadata": {}
        }
      ]
    }
  ]
}