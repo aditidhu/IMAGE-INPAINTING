<<<<<<< HEAD
{"nbformat":4,"nbformat_minor":0,"metadata":{"colab":{"provenance":[],"authorship_tag":"ABX9TyMWQVifBNV1/AV/cYaPWuIL"},"kernelspec":{"name":"python3","display_name":"Python 3"},"language_info":{"name":"python"}},"cells":[{"cell_type":"code","execution_count":7,"metadata":{"id":"0eRKAaox-qjT","executionInfo":{"status":"error","timestamp":1697799409353,"user_tz":-330,"elapsed":609,"user":{"displayName":"Kindip Mallhi","userId":"13917958198458476851"}},"colab":{"base_uri":"https://localhost:8080/","height":141},"outputId":"b976fda8-c9bf-4642-ffe6-564a8df8367c"},"outputs":[{"output_type":"error","ename":"SyntaxError","evalue":"ignored","traceback":["\u001b[0;36m  File \u001b[0;32m\"<ipython-input-7-4f157168c97b>\"\u001b[0;36m, line \u001b[0;32m38\u001b[0m\n\u001b[0;31m    if T[min(x + 1,T.shape[0]), y] == 0 and T[max(0,x - 1), y] == 0 and T[x,min(y + 1,T.shape[1])] == 0 and T[x,max(y - 1,0] == 0:\u001b[0m\n\u001b[0m                                                                                                                           ^\u001b[0m\n\u001b[0;31mSyntaxError\u001b[0m\u001b[0;31m:\u001b[0m closing parenthesis ']' does not match opening parenthesis '('\n"]}],"source":[]},{"cell_type":"code","source":["import numpy as np\n","import cv2\n","import matplotlib.pyplot as plt\n","EPS = 1e-6\n","\n","def solve(i1, j1, i2, j2, T):\n","\n","    if T[i1, j1] == 1000000 and T[i2, j2] == 1000000:\n","\n","        return 100000\n","\n","\n","    delta_T = abs(T[i1, j1] - T[i2, j2])\n","\n","\n","    s = min(T[i1, j1], T[i2, j2]) + 1.0\n","\n","\n","    return min(s, T[i1, j1] + delta_T, T[i2, j2] + delta_T)\n","\n","\n","# def inpaint(i, j, T, image, B):\n","#     s = 0\n","#     Ia = 0\n","#     grad_T = np.gradient(T)\n","#     print(grad_T)\n","#     for x in range(i - B, i + B + 1):\n","#         for y in range(j - B, j + B + 1):\n","#            for z in range(0,3):\n","#             if T[x-1, y-1] == 0:\n","#                 r = np.array([x - i, y - j])\n","#                 dot_gradt_r=(grad_T[0][i, j]*r[0]) +(grad_T[1][i, j]*r[1])\n","#                 dir = (dot_gradt_r)/ np.linalg.norm(r)\n","#                 dst = 1 / (np.linalg.norm(r) ** 2)\n","#                 lev = 1 / (1 + np.abs(T[x-1, y-1] - T[i, j]))\n","#                 w = dir * dst * lev\n","#                 if x+1<T.shape[0] and y+1<T.shape[1] and x-1>T.shape[0] and y-1>T.shape[1]:\n","#                  if T[x + 1, y] == 0 and T[x - 1, y] == 0 and T[x, y + 1] == 0 and T[x, y - 1] == 0:\n","#                     gradI = np.array([\n","#                         image[x + 1, y,z] - image[x - 1, y,z],\n","#                         image[x, y + 1,z] - image[x, y - 1,z]\n","#                     ])\n","#                     dot_gradi_r = (gradI[0]*r[0]) + (gradI[1]*r[1])\n","#                     Ia += w * (image[x,y,z] + dot_gradi_r)\n","#                     s += w\n","\n","def inpaint(i, j, T, image, B):\n","    s = 0\n","    Ia = np.zeros(3)\n","    grad_T = np.gradient(T)\n","\n","    for x in range(i - B, i + B + 1):\n","        for y in range(j - B, j + B + 1):\n","            for z in range(3):\n","                if x - 1 >= 0 and y - 1 >= 0 and T[x - 1, y - 1] == 0:\n","                    r = np.array([x- i, y - j])\n","                    dot_gradt_r = (grad_T[0][i, j] * r[0]) + (grad_T[1][i, j] * r[1])\n","                    dir = (dot_gradt_r) / np.linalg.norm(r,1)\n","                    if dir==0:\n","                      dir = EPS\n","                    dst = 1 / (np.linalg.norm(r,1) ** 2)\n","\n","                    lev = 1 / (1 + np.abs(T[x-1,y-1] - T[i-1, j-1]))\n","\n","                    w = abs(dir * dst * lev)\n","\n","                    if (\n","                        x + 1 < image.shape[0]\n","                        and y + 1 < image.shape[1]\n","                        and x - 1 >= 0\n","                        and y - 1 >= 0\n","                        and T[x + 1, y] == 0\n","                        and T[x - 1, y] == 0\n","                        and T[x, y + 1] == 0\n","                        and T[x, y - 1] == 0\n","                    ):\n","                        gradI = np.array(\n","                            [\n","                                image[x + 1, y, z] - image[x - 1, y, z],\n","                                image[x, y + 1, z] - image[x, y - 1, z],\n","                            ]\n","                        )\n","                        dot_gradi_r = (gradI[0] * r[0]) + (gradI[1] * r[1])\n","                        Ia[z] += w * (image[x, y, z] + dot_gradi_r)\n","                        s += w\n","\n","    for z in range(3):\n","        if s != 0:\n","            image[i, j, z] = Ia[z] / s\n","        else:\n","            image[i, j, z] = 0\n","\n","\n","\n","\n","    # if s != 0:\n","    #     image[i,j,z] = Ia / s\n","    # else:\n","    #     image[i,j,z] = 0\n","\n","\n","\n","\n","\n","\n","\n","narrow_band=[]\n","image_width = 64\n","image_height = 64\n","image = np.ones((image_height, image_width, 3), dtype=np.uint8) * 255\n","start_point = (image_width // 2, 0)\n","end_point = (image_width // 2, image_height)\n","image = cv2.line(image, start_point, end_point, (255,0,0), 5)\n","start_point = (0, image_height // 2)\n","end_point = (image_width, image_height // 2)\n","image = cv2.line(image, start_point, end_point, (0,0,0),5)\n","plt.imshow(image)\n","plt.axis('off')\n","plt.show()\n","gray_image = cv2.cvtColor(image, cv2.COLOR_BGR2GRAY)\n","T=np.zeros_like(gray_image)\n","for i in range(0,image.shape[0]):\n","  for j in range(0,image.shape[1]):\n","    if any(image[i,j]!=(0,0,0)):\n","      T[i,j]=0\n","      narrow_band.append([i,j])\n","    else:\n","      T[i,j]=1000000\n","plt.imshow(T,cmap='gray')\n","plt.axis('off')\n","plt.show()\n","\n","\n","while narrow_band:\n","    min_distance = 1000000\n","    min_point = None\n","    for point in narrow_band:\n","\n","        if T[point[0],point[1]]<min_distance:\n","            min_distance = T[point[0],point[1]]\n","            min_point = point\n","\n","    current_point = min_point\n","\n","    if current_point is None:\n","        break\n","\n","    narrow_band.remove(current_point)\n","\n","\n","    neighbors = [\n","        (current_point[0] - 1, current_point[1]),\n","        (current_point[0] + 1, current_point[1]),\n","        (current_point[0], current_point[1] - 1),\n","        (current_point[0], current_point[1] + 1),\n","    ]\n","\n","    for neighbor in neighbors:\n","\n","        if 0 <= neighbor[0] < image.shape[0] and 0 <= neighbor[1] < image.shape[1]:\n","\n","            new_distance = solve(current_point[0], current_point[1], neighbor[0], neighbor[1],T)\n","\n","\n","            if new_distance < T[neighbor]:\n","                T[neighbor] = new_distance\n","\n","\n","                if neighbor not in narrow_band:\n","                    narrow_band.append(neighbor)\n","\n","\n","                    b = 1\n","                    inpaint(neighbor[0],neighbor[1],T,image,b)\n","\n","\n","plt.imshow(image)\n","plt.axis('off')\n","plt.show()"],"metadata":{"colab":{"base_uri":"https://localhost:8080/","height":1000},"id":"xNcAfqLCczia","executionInfo":{"status":"ok","timestamp":1697825335332,"user_tz":-330,"elapsed":2959,"user":{"displayName":"Kindip Mallhi","userId":"13917958198458476851"}},"outputId":"6d09ea55-e719-48d4-dd78-0764d7513df2"},"execution_count":1,"outputs":[{"output_type":"display_data","data":{"text/plain":["<Figure size 640x480 with 1 Axes>"],"image/png":"iVBORw0KGgoAAAANSUhEUgAAAYUAAAGFCAYAAAASI+9IAAAAOXRFWHRTb2Z0d2FyZQBNYXRwbG90bGliIHZlcnNpb24zLjcuMSwgaHR0cHM6Ly9tYXRwbG90bGliLm9yZy/bCgiHAAAACXBIWXMAAA9hAAAPYQGoP6dpAAAFGklEQVR4nO3bMQ7CQBAEQR/y/7+8ZB0CEqADqyq+YBKrtYHXzMwBAMdx3HYPAOB3iAIAEQUAIgoARBQAiCgAEFEAIKIAQM7dA+Aj1tq94DH/iPInXAoARBQAiCgAEFEAIKIAQEQBgIgCABEFACIKAEQUAIgoABBRACCiAEBEAYCIAgARBQAiCgBEFACIKAAQUQAgogBARAGAiAIAEQUAIgoARBQAiCgAEFEAIKIAQEQBgIgCABEFACIKAEQUAIgoABBRACCiAEBEAYCIAgARBQAiCgBEFACIKAAQUQAgogBARAGAiAIAEQUAIgoARBQAiCgAEFEAIKIAQEQBgIgCABEFACIKAEQUAIgoABBRACCiAEBEAYCIAgARBQAiCgBEFACIKAAQUQAgogBARAGAiAIAEQUAIgoARBQAiCgAEFEAIKIAQEQBgIgCABEFACIKAEQUAIgoABBRACCiAEBEAYCIAgARBQAiCgBEFACIKAAQUQAgogBARAGAiAIAEQUAIgoARBQAiCgAEFEAIKIAQEQBgIgCABEFACIKAEQUAIgoABBRACCiAEBEAYCIAgARBQAiCgBEFACIKAAQUQAgogBARAGAiAIAEQUAIgoARBQAiCgAEFEAIKIAQEQBgIgCABEFACIKAEQUAIgoABBRACCiAEBEAYCIAgARBQAiCgBEFACIKAAQUQAgogBARAGAiAIAEQUAIgoARBQAiCgAEFEAIKIAQEQBgIgCABEFACIKAEQUAIgoABBRACCiAEBEAYCIAgARBQAiCgBEFACIKAAQUQAgogBARAGAiAIAOV99uNb65g64Nt8PP2Bmnr5xKQAQUQAgogBARAGAiAIAEQUAIgoARBQAiCgAEFEAIKIAQEQBgIgCABEFACIKAEQUAIgoABBRACCiAEBEAYCIAgARBQAiCgBEFACIKAAQUQAgogBARAGAiAIAEQUAIgoARBQAiCgAEFEAIKIAQEQBgIgCABEFACIKAOR89eHMfHMHvGet3Qse8/3wJ1wKAEQUAIgoABBRACCiAEBEAYCIAgARBQAiCgBEFACIKAAQUQAgogBARAGAiAIAEQUAIgoARBQAiCgAEFEAIKIAQEQBgIgCABEFACIKAEQUAIgoABBRACCiAEBEAYCIAgARBQAiCgBEFACIKAAQUQAgogBARAGAiAIAEQUAIgoARBQAiCgAEFEAIKIAQEQBgIgCABEFACIKAEQUAIgoABBRACCiAEBEAYCIAgARBQAiCgBEFACIKAAQUQAgogBARAGAiAIAEQUAIgoARBQAiCgAEFEAIKIAQEQBgIgCABEFACIKAEQUAIgoABBRACCiAEBEAYCIAgARBQAiCgBEFACIKAAQUQAgogBARAGAiAIAEQUAIgoARBQAiCgAEFEAIKIAQEQBgIgCABEFACIKAEQUAIgoABBRACCiAEBEAYCIAgARBQAiCgBEFACIKAAQUQAgogBARAGAiAIAEQUAIgoARBQAiCgAEFEAIKIAQEQBgIgCABEFACIKAEQUAIgoABBRACCiAEBEAYCIAgARBQAiCgBEFACIKAAQUQAgogBARAGAiAIAEQUAIgoARBQAiCgAEFEAIKIAQEQBgIgCABEFACIKAEQUAIgoABBRACCiAEBEAYCIAgARBQAiCgBEFACIKAAQUQAgogBARAGAiAIAEQUAIgoA5Nw9AD5iZvcCuASXAgARBQAiCgBEFACIKAAQUQAgogBARAGAiAIAuQNsAhMLoVBidQAAAABJRU5ErkJggg==\n"},"metadata":{}},{"output_type":"display_data","data":{"text/plain":["<Figure size 640x480 with 1 Axes>"],"image/png":"iVBORw0KGgoAAAANSUhEUgAAAYUAAAGFCAYAAAASI+9IAAAAOXRFWHRTb2Z0d2FyZQBNYXRwbG90bGliIHZlcnNpb24zLjcuMSwgaHR0cHM6Ly9tYXRwbG90bGliLm9yZy/bCgiHAAAACXBIWXMAAA9hAAAPYQGoP6dpAAAFCUlEQVR4nO3bIQ4DMQwAwUuV/3/ZZUsbEvXADDYwWxl4zcw8APA8z+ffCwDwHqIAQEQBgIgCABEFACIKAEQUAIgoAJB9OrjWurkHAJed/Cq7FACIKAAQUQAgogBARAGAiAIAEQUAIgoARBQAiCgAEFEAIKIAQEQBgIgCABEFACIKAEQUAIgoABBRACCiAEBEAYCIAgARBQAiCgBEFACIKAAQUQAgogBARAGAiAIAEQUAIgoARBQAiCgAEFEAIKIAQEQBgIgCABEFACIKAEQUAIgoABBRACCiAEBEAYCIAgARBQAiCgBEFACIKAAQUQAgogBARAGAiAIAEQUAIgoARBQAiCgAEFEAIKIAQEQBgIgCABEFACIKAEQUAIgoABBRACCiAEBEAYCIAgARBQAiCgBEFACIKAAQUQAgogBARAGAiAIAEQUAIgoARBQAiCgAEFEAIKIAQEQBgIgCABEFACIKAEQUAIgoABBRACCiAEBEAYCIAgARBQAiCgBEFACIKAAQUQAgogBARAGAiAIAEQUAIgoARBQAiCgAEFEAIKIAQEQBgIgCABEFACIKAEQUAIgoABBRACCiAEBEAYCIAgARBQAiCgBEFACIKAAQUQAgogBARAGAiAIAEQUAIgoARBQAiCgAEFEAIKIAQEQBgIgCABEFACIKAEQUAIgoABBRACCiAEBEAYCIAgARBQAiCgBEFACIKAAQUQAgogBARAGAiAIAEQUAIgoARBQAiCgAEFEAIKIAQEQBgIgCABEFACIKAEQUAIgoABBRACCiAEBEAYCIAgARBQCyTwdn5uYeALyASwGAiAIAEQUAIgoARBQAiCgAEFEAIKIAQEQBgIgCABEFACIKAEQUAIgoABBRACCiAEBEAYCIAgARBQAiCgBEFACIKAAQUQAgogBARAGAiAIAEQUAIgoARBQAiCgAEFEAIKIAQEQBgIgCABEFACIKAEQUAIgoABBRACD7dHCtdXMPAC6bmZ8zLgUAIgoARBQAiCgAEFEAIKIAQEQBgIgCABEFACIKAEQUAIgoABBRACCiAEBEAYCIAgARBQAiCgBEFACIKAAQUQAgogBARAGAiAIAEQUAIgoARBQAiCgAEFEAIKIAQEQBgIgCABEFACIKAEQUAIgoABBRACCiAEBEAYCIAgARBQAiCgBEFACIKAAQUQAgogBARAGAiAIAEQUAIgoARBQAiCgAEFEAIKIAQEQBgIgCABEFACIKAEQUAIgoABBRACCiAEBEAYCIAgARBQAiCgBEFACIKAAQUQAgogBARAGAiAIAEQUAIgoARBQAiCgAEFEAIKIAQEQBgIgCABEFACIKAEQUAIgoABBRACCiAEBEAYCIAgARBQAiCgBEFACIKAAQUQAgogBARAGAiAIAEQUAIgoARBQAiCgAEFEAIKIAQEQBgIgCABEFACIKAEQUAIgoABBRACCiAEBEAYCIAgARBQAiCgBEFACIKAAQUQAgogBARAGAiAIAEQUAIgoARBQAiCgAEFEAIKIAQEQBgIgCABEFACIKAEQUAIgoABBRACCiAEBEAYCIAgARBQAiCgBEFACIKAAQUQAgogBARAGAiAIAEQUAIgoARBQAiCgAEFEAIKIAQEQBgIgCABEFACIKAEQUAIgoABBRACCiAEBEAYCIAgARBQCyTwdn5uYeALyASwGAiAIAEQUAIgoARBQAiCgAEFEAIKIAQEQBgHwBE9oTCAukGDMAAAAASUVORK5CYII=\n"},"metadata":{}},{"output_type":"stream","name":"stderr","text":["<ipython-input-1-0c32701a47be>:13: RuntimeWarning: overflow encountered in ubyte_scalars\n","  delta_T = abs(T[i1, j1] - T[i2, j2])\n","<ipython-input-1-0c32701a47be>:19: RuntimeWarning: overflow encountered in ubyte_scalars\n","  return min(s, T[i1, j1] + delta_T, T[i2, j2] + delta_T)\n","<ipython-input-1-0c32701a47be>:79: RuntimeWarning: overflow encountered in ubyte_scalars\n","  image[x + 1, y, z] - image[x - 1, y, z],\n","<ipython-input-1-0c32701a47be>:58: RuntimeWarning: invalid value encountered in double_scalars\n","  dir = (dot_gradt_r) / np.linalg.norm(r,1)\n","<ipython-input-1-0c32701a47be>:61: RuntimeWarning: divide by zero encountered in double_scalars\n","  dst = 1 / (np.linalg.norm(r,1) ** 2)\n","<ipython-input-1-0c32701a47be>:80: RuntimeWarning: overflow encountered in ubyte_scalars\n","  image[x, y + 1, z] - image[x, y - 1, z],\n","<ipython-input-1-0c32701a47be>:63: RuntimeWarning: overflow encountered in ubyte_scalars\n","  lev = 1 / (1 + np.abs(T[x-1,y-1] - T[i-1, j-1]))\n"]},{"output_type":"display_data","data":{"text/plain":["<Figure size 640x480 with 1 Axes>"],"image/png":"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\n"},"metadata":{}}]},{"cell_type":"code","source":[],"metadata":{"id":"h3UsZT2kaspP"},"execution_count":null,"outputs":[]}]}
=======
{
  "nbformat": 4,
  "nbformat_minor": 0,
  "metadata": {
    "colab": {
      "provenance": [],
      "gpuType": "T4"
    },
    "kernelspec": {
      "name": "python3",
      "display_name": "Python 3"
    },
    "language_info": {
      "name": "python"
    },
    "accelerator": "GPU"
  },
  "cells": [
    {
      "cell_type": "code",
      "source": [],
      "metadata": {
        "id": "JUW4jX3ksCyO"
      },
      "execution_count": null,
      "outputs": []
    },
    {
      "cell_type": "code",
      "source": [
        "import numpy as np\n",
        "import cv2\n",
        "import matplotlib.pyplot as plt\n",
        "from scipy.signal import convolve2d\n",
        "EPS = 1e-6\n",
        "\n",
        "def solve(i1, j1, i2, j2, T):\n",
        "\n",
        "    if T[i1, j1] == 1000000 and T[i2, j2] == 1000000:\n",
        "\n",
        "        return 100000\n",
        "\n",
        "\n",
        "    delta_T = abs(T[i1, j1] - T[i2, j2])\n",
        "\n",
        "\n",
        "    s = min(T[i1, j1], T[i2, j2]) + 1.0\n",
        "\n",
        "\n",
        "    return min(s, T[i1, j1] + delta_T, T[i2, j2] + delta_T)\n",
        "def gradient(array):\n",
        "    gradient_x = np.gradient(array, axis=0)\n",
        "    gradient_y = np.gradient(array, axis=1)\n",
        "    return gradient_x, gradient_y\n",
        "\n",
        "\n",
        "\n",
        "def inpaint(i, j, T, image, B=1):\n",
        "    s = 0\n",
        "    Ia = np.zeros(3)\n",
        "    grad_T = np.gradient(T)\n",
        "\n",
        "    for x in range(i - B, i + B + 1):\n",
        "        for y in range(j - B, j + B + 1):\n",
        "            for z in range(3):\n",
        "                if x - 1 >= 0 and y - 1 >= 0 and T[x - 1, y - 1] == 0:\n",
        "                    r = np.array([x- i, y - j])\n",
        "                    dot_gradt_r = (grad_T[0][i, j] * r[0]) + (grad_T[1][i, j] * r[1])\n",
        "                    dir = (dot_gradt_r) / np.linalg.norm(r,1)\n",
        "                    if dir==0:\n",
        "                      dir = EPS\n",
        "                    dst = 1 / (np.linalg.norm(r,1) ** 2)\n",
        "\n",
        "                    lev = 1 / (1 + np.abs(T[x-1,y-1] - T[i, j]))\n",
        "\n",
        "                    w = abs(dir * dst * lev)\n",
        "\n",
        "\n",
        "                    if (\n",
        "                        x + 1 < image.shape[0]\n",
        "                        and y + 1 < image.shape[1]\n",
        "                        and x - 1 >= 0\n",
        "                        and y - 1 >= 0\n",
        "                        and T[x + 1, y] == 0\n",
        "                        and T[x - 1, y] == 0\n",
        "                        and T[x, y + 1] == 0\n",
        "                        and T[x, y - 1] == 0\n",
        "                    ):\n",
        "                        gradI = np.array(\n",
        "                            [\n",
        "                                image[x + 1, y, z] - image[x - 1, y, z],\n",
        "                                image[x, y + 1, z] - image[x, y - 1, z],\n",
        "                            ]\n",
        "                        )\n",
        "                        dot_gradi_r = (gradI[0] * r[0]) + (gradI[1] * r[1])\n",
        "                        Ia[z] += w * (image[x, y, z] + dot_gradi_r)\n",
        "                        s += w\n",
        "\n",
        "    for z in range(3):\n",
        "        if s != 0:\n",
        "            image[i, j, z] = Ia[z] / s\n",
        "        else:\n",
        "            image[i, j, z] = 0\n",
        "\n",
        "\n",
        "\n",
        "narrow_band=[]\n",
        "image_width = 64\n",
        "image_height = 64\n",
        "image = np.ones((image_height, image_width, 3), dtype=np.uint8) * 255\n",
        "start_point = (image_width // 2, 0)\n",
        "end_point = (image_width // 2, image_height)\n",
        "image = cv2.line(image, start_point, end_point, (255,0,0), 5)\n",
        "start_point = (0, image_height // 2)\n",
        "end_point = (image_width, image_height // 2)\n",
        "image = cv2.line(image, start_point, end_point, (0,0,0),5)\n",
        "plt.imshow(image)\n",
        "plt.axis('off')\n",
        "plt.show()\n",
        "gray_image = cv2.cvtColor(image, cv2.COLOR_BGR2GRAY)\n",
        "T=np.zeros_like(gray_image)\n",
        "for i in range(0,image.shape[0]):\n",
        "  for j in range(0,image.shape[1]):\n",
        "    if any(image[i,j]!=(0,0,0)):\n",
        "      T[i,j]=0\n",
        "      narrow_band.append([i,j])\n",
        "    else:\n",
        "      T[i,j]=10000\n",
        "      narrow_band.append([i,j])\n",
        "plt.imshow(T,cmap='gray')\n",
        "plt.axis('off')\n",
        "plt.show()\n",
        "\n",
        "\n",
        "while narrow_band:\n",
        "    min_distance = 1000000\n",
        "    min_point = None\n",
        "    for point in narrow_band:\n",
        "\n",
        "        if T[point[0],point[1]]<min_distance:\n",
        "            min_distance = T[point[0],point[1]]\n",
        "            min_point = point\n",
        "\n",
        "    current_point = min_point\n",
        "\n",
        "    if current_point is None:\n",
        "        break\n",
        "\n",
        "    narrow_band.remove(current_point)\n",
        "\n",
        "    neighbors = [\n",
        "        (current_point[0] - 1, current_point[1]),\n",
        "        (current_point[0] + 1, current_point[1]),\n",
        "        (current_point[0], current_point[1] - 1),\n",
        "        (current_point[0], current_point[1] + 1),\n",
        "    ]\n",
        "\n",
        "    for neighbor in neighbors:\n",
        "\n",
        "        if 0 <= neighbor[0] < image.shape[0] and 0 <= neighbor[1] < image.shape[1]:\n",
        "            new_distance = solve(current_point[0], current_point[1], neighbor[0], neighbor[1],T)\n",
        "\n",
        "            if new_distance < T[neighbor]:\n",
        "                T[neighbor] = new_distance\n",
        "\n",
        "\n",
        "                if neighbor not in narrow_band:\n",
        "                    narrow_band.append(neighbor)\n",
        "\n",
        "\n",
        "                    inpaint(neighbor[0],neighbor[1],T,image)\n",
        "\n",
        "\n",
        "plt.imshow(image,cmap='gray')\n",
        "plt.axis('off')\n",
        "plt.show()\n",
        "\n",
        "\n",
        "\n"
      ],
      "metadata": {
        "colab": {
          "base_uri": "https://localhost:8080/",
          "height": 1000
        },
        "id": "mccWlZu0Fwft",
        "outputId": "e3ea41ac-7555-4ee0-9390-4bfaa7b38910"
      },
      "execution_count": 29,
      "outputs": [
        {
          "output_type": "display_data",
          "data": {
            "text/plain": [
              "<Figure size 640x480 with 1 Axes>"
            ],
            "image/png": "iVBORw0KGgoAAAANSUhEUgAAAYUAAAGFCAYAAAASI+9IAAAAOXRFWHRTb2Z0d2FyZQBNYXRwbG90bGliIHZlcnNpb24zLjcuMSwgaHR0cHM6Ly9tYXRwbG90bGliLm9yZy/bCgiHAAAACXBIWXMAAA9hAAAPYQGoP6dpAAAFGklEQVR4nO3bMQ7CQBAEQR/y/7+8ZB0CEqADqyq+YBKrtYHXzMwBAMdx3HYPAOB3iAIAEQUAIgoARBQAiCgAEFEAIKIAQM7dA+Aj1tq94DH/iPInXAoARBQAiCgAEFEAIKIAQEQBgIgCABEFACIKAEQUAIgoABBRACCiAEBEAYCIAgARBQAiCgBEFACIKAAQUQAgogBARAGAiAIAEQUAIgoARBQAiCgAEFEAIKIAQEQBgIgCABEFACIKAEQUAIgoABBRACCiAEBEAYCIAgARBQAiCgBEFACIKAAQUQAgogBARAGAiAIAEQUAIgoARBQAiCgAEFEAIKIAQEQBgIgCABEFACIKAEQUAIgoABBRACCiAEBEAYCIAgARBQAiCgBEFACIKAAQUQAgogBARAGAiAIAEQUAIgoARBQAiCgAEFEAIKIAQEQBgIgCABEFACIKAEQUAIgoABBRACCiAEBEAYCIAgARBQAiCgBEFACIKAAQUQAgogBARAGAiAIAEQUAIgoARBQAiCgAEFEAIKIAQEQBgIgCABEFACIKAEQUAIgoABBRACCiAEBEAYCIAgARBQAiCgBEFACIKAAQUQAgogBARAGAiAIAEQUAIgoARBQAiCgAEFEAIKIAQEQBgIgCABEFACIKAEQUAIgoABBRACCiAEBEAYCIAgARBQAiCgBEFACIKAAQUQAgogBARAGAiAIAEQUAIgoARBQAiCgAEFEAIKIAQEQBgIgCABEFACIKAEQUAIgoABBRACCiAEBEAYCIAgARBQAiCgBEFACIKAAQUQAgogBARAGAiAIAOV99uNb65g64Nt8PP2Bmnr5xKQAQUQAgogBARAGAiAIAEQUAIgoARBQAiCgAEFEAIKIAQEQBgIgCABEFACIKAEQUAIgoABBRACCiAEBEAYCIAgARBQAiCgBEFACIKAAQUQAgogBARAGAiAIAEQUAIgoARBQAiCgAEFEAIKIAQEQBgIgCABEFACIKAOR89eHMfHMHvGet3Qse8/3wJ1wKAEQUAIgoABBRACCiAEBEAYCIAgARBQAiCgBEFACIKAAQUQAgogBARAGAiAIAEQUAIgoARBQAiCgAEFEAIKIAQEQBgIgCABEFACIKAEQUAIgoABBRACCiAEBEAYCIAgARBQAiCgBEFACIKAAQUQAgogBARAGAiAIAEQUAIgoARBQAiCgAEFEAIKIAQEQBgIgCABEFACIKAEQUAIgoABBRACCiAEBEAYCIAgARBQAiCgBEFACIKAAQUQAgogBARAGAiAIAEQUAIgoARBQAiCgAEFEAIKIAQEQBgIgCABEFACIKAEQUAIgoABBRACCiAEBEAYCIAgARBQAiCgBEFACIKAAQUQAgogBARAGAiAIAEQUAIgoARBQAiCgAEFEAIKIAQEQBgIgCABEFACIKAEQUAIgoABBRACCiAEBEAYCIAgARBQAiCgBEFACIKAAQUQAgogBARAGAiAIAEQUAIgoARBQAiCgAEFEAIKIAQEQBgIgCABEFACIKAEQUAIgoABBRACCiAEBEAYCIAgARBQAiCgBEFACIKAAQUQAgogBARAGAiAIAEQUAIgoARBQAiCgAEFEAIKIAQEQBgIgCABEFACIKAEQUAIgoABBRACCiAEBEAYCIAgARBQAiCgBEFACIKAAQUQAgogBARAGAiAIAEQUAIgoA5Nw9AD5iZvcCuASXAgARBQAiCgBEFACIKAAQUQAgogBARAGAiAIAuQNsAhMLoVBidQAAAABJRU5ErkJggg==\n"
          },
          "metadata": {}
        },
        {
          "output_type": "display_data",
          "data": {
            "text/plain": [
              "<Figure size 640x480 with 1 Axes>"
            ],
            "image/png": "iVBORw0KGgoAAAANSUhEUgAAAYUAAAGFCAYAAAASI+9IAAAAOXRFWHRTb2Z0d2FyZQBNYXRwbG90bGliIHZlcnNpb24zLjcuMSwgaHR0cHM6Ly9tYXRwbG90bGliLm9yZy/bCgiHAAAACXBIWXMAAA9hAAAPYQGoP6dpAAAFCUlEQVR4nO3bIQ4DMQwAwUuV/3/ZZUsbEvXADDYwWxl4zcw8APA8z+ffCwDwHqIAQEQBgIgCABEFACIKAEQUAIgoAJB9OrjWurkHAJed/Cq7FACIKAAQUQAgogBARAGAiAIAEQUAIgoARBQAiCgAEFEAIKIAQEQBgIgCABEFACIKAEQUAIgoABBRACCiAEBEAYCIAgARBQAiCgBEFACIKAAQUQAgogBARAGAiAIAEQUAIgoARBQAiCgAEFEAIKIAQEQBgIgCABEFACIKAEQUAIgoABBRACCiAEBEAYCIAgARBQAiCgBEFACIKAAQUQAgogBARAGAiAIAEQUAIgoARBQAiCgAEFEAIKIAQEQBgIgCABEFACIKAEQUAIgoABBRACCiAEBEAYCIAgARBQAiCgBEFACIKAAQUQAgogBARAGAiAIAEQUAIgoARBQAiCgAEFEAIKIAQEQBgIgCABEFACIKAEQUAIgoABBRACCiAEBEAYCIAgARBQAiCgBEFACIKAAQUQAgogBARAGAiAIAEQUAIgoARBQAiCgAEFEAIKIAQEQBgIgCABEFACIKAEQUAIgoABBRACCiAEBEAYCIAgARBQAiCgBEFACIKAAQUQAgogBARAGAiAIAEQUAIgoARBQAiCgAEFEAIKIAQEQBgIgCABEFACIKAEQUAIgoABBRACCiAEBEAYCIAgARBQAiCgBEFACIKAAQUQAgogBARAGAiAIAEQUAIgoARBQAiCgAEFEAIKIAQEQBgIgCABEFACIKAEQUAIgoABBRACCiAEBEAYCIAgARBQCyTwdn5uYeALyASwGAiAIAEQUAIgoARBQAiCgAEFEAIKIAQEQBgIgCABEFACIKAEQUAIgoABBRACCiAEBEAYCIAgARBQAiCgBEFACIKAAQUQAgogBARAGAiAIAEQUAIgoARBQAiCgAEFEAIKIAQEQBgIgCABEFACIKAEQUAIgoABBRACD7dHCtdXMPAC6bmZ8zLgUAIgoARBQAiCgAEFEAIKIAQEQBgIgCABEFACIKAEQUAIgoABBRACCiAEBEAYCIAgARBQAiCgBEFACIKAAQUQAgogBARAGAiAIAEQUAIgoARBQAiCgAEFEAIKIAQEQBgIgCABEFACIKAEQUAIgoABBRACCiAEBEAYCIAgARBQAiCgBEFACIKAAQUQAgogBARAGAiAIAEQUAIgoARBQAiCgAEFEAIKIAQEQBgIgCABEFACIKAEQUAIgoABBRACCiAEBEAYCIAgARBQAiCgBEFACIKAAQUQAgogBARAGAiAIAEQUAIgoARBQAiCgAEFEAIKIAQEQBgIgCABEFACIKAEQUAIgoABBRACCiAEBEAYCIAgARBQAiCgBEFACIKAAQUQAgogBARAGAiAIAEQUAIgoARBQAiCgAEFEAIKIAQEQBgIgCABEFACIKAEQUAIgoABBRACCiAEBEAYCIAgARBQAiCgBEFACIKAAQUQAgogBARAGAiAIAEQUAIgoARBQAiCgAEFEAIKIAQEQBgIgCABEFACIKAEQUAIgoABBRACCiAEBEAYCIAgARBQAiCgBEFACIKAAQUQAgogBARAGAiAIAEQUAIgoARBQAiCgAEFEAIKIAQEQBgIgCABEFACIKAEQUAIgoABBRACCiAEBEAYCIAgARBQCyTwdn5uYeALyASwGAiAIAEQUAIgoARBQAiCgAEFEAIKIAQEQBgHwBE9oTCAukGDMAAAAASUVORK5CYII=\n"
          },
          "metadata": {}
        },
        {
          "output_type": "stream",
          "name": "stderr",
          "text": [
            "<ipython-input-29-29d3ae5da2c2>:14: RuntimeWarning: overflow encountered in ubyte_scalars\n",
            "  delta_T = abs(T[i1, j1] - T[i2, j2])\n",
            "<ipython-input-29-29d3ae5da2c2>:20: RuntimeWarning: overflow encountered in ubyte_scalars\n",
            "  return min(s, T[i1, j1] + delta_T, T[i2, j2] + delta_T)\n",
            "<ipython-input-29-29d3ae5da2c2>:61: RuntimeWarning: overflow encountered in ubyte_scalars\n",
            "  image[x + 1, y, z] - image[x - 1, y, z],\n",
            "<ipython-input-29-29d3ae5da2c2>:39: RuntimeWarning: invalid value encountered in double_scalars\n",
            "  dir = (dot_gradt_r) / np.linalg.norm(r,1)\n",
            "<ipython-input-29-29d3ae5da2c2>:42: RuntimeWarning: divide by zero encountered in double_scalars\n",
            "  dst = 1 / (np.linalg.norm(r,1) ** 2)\n",
            "<ipython-input-29-29d3ae5da2c2>:62: RuntimeWarning: overflow encountered in ubyte_scalars\n",
            "  image[x, y + 1, z] - image[x, y - 1, z],\n"
          ]
        },
        {
          "output_type": "display_data",
          "data": {
            "text/plain": [
              "<Figure size 640x480 with 1 Axes>"
            ],
            "image/png": "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\n"
          },
          "metadata": {}
        }
      ]
    }
  ]
}
>>>>>>> e9c6c444f44312807117ad97d717231692e14b13
